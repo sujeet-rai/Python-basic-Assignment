{
 "cells": [
  {
   "cell_type": "markdown",
   "id": "eab131f2",
   "metadata": {},
   "source": [
    "### Q1: What are data structures, and why are they important?"
   ]
  },
  {
   "cell_type": "code",
   "execution_count": null,
   "id": "541a5982",
   "metadata": {},
   "outputs": [],
   "source": [
    "print(\"Data structures are specialized formats for organizing, storing, and managing data.\")\n",
    "print(\"They are important because they help in efficient data access, modification, and storage.\")"
   ]
  },
  {
   "cell_type": "markdown",
   "id": "67e0eb17",
   "metadata": {},
   "source": [
    "### Q2: Explain mutable vs immutable data types with examples."
   ]
  },
  {
   "cell_type": "code",
   "execution_count": null,
   "id": "593b2f70",
   "metadata": {},
   "outputs": [],
   "source": [
    "mutable_list = [1, 2, 3]\n",
    "mutable_list.append(4)\n",
    "immutable_tuple = (1, 2, 3)\n",
    "print(\"Mutable example (list):\", mutable_list)\n",
    "print(\"Immutable example (tuple):\", immutable_tuple)"
   ]
  },
  {
   "cell_type": "markdown",
   "id": "db6a4ed0",
   "metadata": {},
   "source": [
    "### Q3: What are the main differences between lists and tuples in Python?"
   ]
  },
  {
   "cell_type": "code",
   "execution_count": null,
   "id": "fec5d1dc",
   "metadata": {},
   "outputs": [],
   "source": [
    "print(\"Lists are mutable and use [], Tuples are immutable and use ().\")"
   ]
  },
  {
   "cell_type": "markdown",
   "id": "ffa96d5c",
   "metadata": {},
   "source": [
    "### Q4: Describe how dictionaries store data."
   ]
  },
  {
   "cell_type": "code",
   "execution_count": null,
   "id": "abb739b5",
   "metadata": {},
   "outputs": [],
   "source": [
    "print(\"Dictionaries store data as key-value pairs using a hash table internally.\")"
   ]
  },
  {
   "cell_type": "markdown",
   "id": "018bbeb4",
   "metadata": {},
   "source": [
    "### Q5: Why might you use a set instead of a list in Python?"
   ]
  },
  {
   "cell_type": "code",
   "execution_count": null,
   "id": "1790fea5",
   "metadata": {},
   "outputs": [],
   "source": [
    "print(\"Sets automatically remove duplicates and allow fast membership testing.\")"
   ]
  },
  {
   "cell_type": "markdown",
   "id": "d76e8055",
   "metadata": {},
   "source": [
    "### Q6: What is a string in Python, and how is it different from a list?"
   ]
  },
  {
   "cell_type": "code",
   "execution_count": null,
   "id": "118b2334",
   "metadata": {},
   "outputs": [],
   "source": [
    "print(\"Strings are immutable sequences of characters; Lists are mutable collections of items.\")"
   ]
  },
  {
   "cell_type": "markdown",
   "id": "0b36671a",
   "metadata": {},
   "source": [
    "### Q7: How do tuples ensure data integrity in Python?"
   ]
  },
  {
   "cell_type": "code",
   "execution_count": null,
   "id": "5692d5a0",
   "metadata": {},
   "outputs": [],
   "source": [
    "print(\"Tuples are immutable, so their data cannot be changed accidentally.\")"
   ]
  },
  {
   "cell_type": "markdown",
   "id": "4266d940",
   "metadata": {},
   "source": [
    "### Q8: What is a hash table, and how does it relate to dictionaries in Python?"
   ]
  },
  {
   "cell_type": "code",
   "execution_count": null,
   "id": "3841869c",
   "metadata": {},
   "outputs": [],
   "source": [
    "print(\"A hash table stores data using a hash function; Python dictionaries are implemented as hash tables.\")"
   ]
  },
  {
   "cell_type": "markdown",
   "id": "03fddc5f",
   "metadata": {},
   "source": [
    "### Q9: Can lists contain different data types in Python?"
   ]
  },
  {
   "cell_type": "code",
   "execution_count": null,
   "id": "1314e017",
   "metadata": {},
   "outputs": [],
   "source": [
    "mixed_list = [1, \"hello\", 3.14]\n",
    "print(\"Example of mixed list:\", mixed_list)"
   ]
  },
  {
   "cell_type": "markdown",
   "id": "1ea14149",
   "metadata": {},
   "source": [
    "### Q10: Explain why strings are immutable in Python."
   ]
  },
  {
   "cell_type": "code",
   "execution_count": null,
   "id": "a51d2ee7",
   "metadata": {},
   "outputs": [],
   "source": [
    "print(\"Strings are immutable because they are stored in fixed memory locations and changes create a new object.\")"
   ]
  },
  {
   "cell_type": "markdown",
   "id": "7a36640a",
   "metadata": {},
   "source": [
    "### Q11: What advantages do dictionaries offer over lists for certain tasks?"
   ]
  },
  {
   "cell_type": "code",
   "execution_count": null,
   "id": "0d4a65dd",
   "metadata": {},
   "outputs": [],
   "source": [
    "print(\"Dictionaries offer faster lookups and better organization for key-value relationships.\")"
   ]
  },
  {
   "cell_type": "markdown",
   "id": "b2cf2b63",
   "metadata": {},
   "source": [
    "### Q12: Describe a scenario where using a tuple would be preferable over a list."
   ]
  },
  {
   "cell_type": "code",
   "execution_count": null,
   "id": "4bcb037a",
   "metadata": {},
   "outputs": [],
   "source": [
    "print(\"Use a tuple when you want data to remain constant, e.g., coordinates.\")"
   ]
  },
  {
   "cell_type": "markdown",
   "id": "1385d45d",
   "metadata": {},
   "source": [
    "### Q13: How do sets handle duplicate values in Python?"
   ]
  },
  {
   "cell_type": "code",
   "execution_count": null,
   "id": "cfe5eabe",
   "metadata": {},
   "outputs": [],
   "source": [
    "print(\"Sets automatically remove duplicate entries.\")"
   ]
  },
  {
   "cell_type": "markdown",
   "id": "21825556",
   "metadata": {},
   "source": [
    "### Q14: How does the 'in' keyword work differently for lists and dictionaries?"
   ]
  },
  {
   "cell_type": "code",
   "execution_count": null,
   "id": "9e735eff",
   "metadata": {},
   "outputs": [],
   "source": [
    "print(\"For lists: checks each element; for dictionaries: checks keys only.\")"
   ]
  },
  {
   "cell_type": "markdown",
   "id": "6366a0d9",
   "metadata": {},
   "source": [
    "### Q15: Can you modify the elements of a tuple?"
   ]
  },
  {
   "cell_type": "code",
   "execution_count": null,
   "id": "ef462190",
   "metadata": {},
   "outputs": [],
   "source": [
    "print(\"No, tuples are immutable and cannot be modified.\")"
   ]
  },
  {
   "cell_type": "markdown",
   "id": "b4b36e4d",
   "metadata": {},
   "source": [
    "### Q16: What is a nested dictionary, and give an example."
   ]
  },
  {
   "cell_type": "code",
   "execution_count": null,
   "id": "ba077d7d",
   "metadata": {},
   "outputs": [],
   "source": [
    "nested_dict = {\"student1\": {\"name\": \"Alice\", \"age\": 20}, \"student2\": {\"name\": \"Bob\", \"age\": 21}}\n",
    "print(nested_dict)"
   ]
  },
  {
   "cell_type": "markdown",
   "id": "71484280",
   "metadata": {},
   "source": [
    "### Q17: Describe the time complexity of accessing elements in a dictionary."
   ]
  },
  {
   "cell_type": "code",
   "execution_count": null,
   "id": "cd095d14",
   "metadata": {},
   "outputs": [],
   "source": [
    "print(\"Accessing an element in a dictionary has average time complexity O(1).\")"
   ]
  },
  {
   "cell_type": "markdown",
   "id": "2d5e5df6",
   "metadata": {},
   "source": [
    "### Q18: In what situations are lists preferred over dictionaries?"
   ]
  },
  {
   "cell_type": "code",
   "execution_count": null,
   "id": "df5fa01d",
   "metadata": {},
   "outputs": [],
   "source": [
    "print(\"When you just need an ordered collection without key-value mapping.\")"
   ]
  },
  {
   "cell_type": "markdown",
   "id": "3d672a30",
   "metadata": {},
   "source": [
    "### Q19: Why are dictionaries considered unordered, and how does that affect data retrieval?"
   ]
  },
  {
   "cell_type": "code",
   "execution_count": null,
   "id": "65804abe",
   "metadata": {},
   "outputs": [],
   "source": [
    "print(\"Before Python 3.7, dictionaries were unordered; from 3.7+, they preserve insertion order.\")"
   ]
  },
  {
   "cell_type": "markdown",
   "id": "dfecfc91",
   "metadata": {},
   "source": [
    "### Q20: Explain the difference between a list and a dictionary in terms of data retrieval."
   ]
  },
  {
   "cell_type": "code",
   "execution_count": null,
   "id": "17d8cdd5",
   "metadata": {},
   "outputs": [],
   "source": [
    "print(\"Lists retrieve data by index; Dictionaries retrieve data by key.\")"
   ]
  },
  {
   "cell_type": "markdown",
   "id": "c610c432",
   "metadata": {},
   "source": [
    "### P1: Create a string with your name and print it."
   ]
  },
  {
   "cell_type": "code",
   "execution_count": null,
   "id": "19fa2dea",
   "metadata": {},
   "outputs": [],
   "source": [
    "name = \"Sujeet\"\n",
    "print(name)"
   ]
  },
  {
   "cell_type": "markdown",
   "id": "67f9fc7b",
   "metadata": {},
   "source": [
    "### P2: Find the length of the string 'Hello World'."
   ]
  },
  {
   "cell_type": "code",
   "execution_count": null,
   "id": "4e3ef3a2",
   "metadata": {},
   "outputs": [],
   "source": [
    "print(len(\"Hello World\"))"
   ]
  },
  {
   "cell_type": "markdown",
   "id": "bf9e306c",
   "metadata": {},
   "source": [
    "### P3: Slice the first 3 characters from the string 'Python Programming'."
   ]
  },
  {
   "cell_type": "code",
   "execution_count": null,
   "id": "a8c78a36",
   "metadata": {},
   "outputs": [],
   "source": [
    "print(\"Python Programming\"[:3])"
   ]
  },
  {
   "cell_type": "markdown",
   "id": "ac145d73",
   "metadata": {},
   "source": [
    "### P4: Convert the string 'hello' to uppercase."
   ]
  },
  {
   "cell_type": "code",
   "execution_count": null,
   "id": "ee551ea6",
   "metadata": {},
   "outputs": [],
   "source": [
    "print(\"hello\".upper())"
   ]
  },
  {
   "cell_type": "markdown",
   "id": "82f38816",
   "metadata": {},
   "source": [
    "### P5: Replace 'apple' with 'orange' in 'I like apple'."
   ]
  },
  {
   "cell_type": "code",
   "execution_count": null,
   "id": "d1de5f24",
   "metadata": {},
   "outputs": [],
   "source": [
    "print(\"I like apple\".replace(\"apple\", \"orange\"))"
   ]
  },
  {
   "cell_type": "markdown",
   "id": "418d122e",
   "metadata": {},
   "source": [
    "### P6: Create a list with numbers 1 to 5 and print it."
   ]
  },
  {
   "cell_type": "code",
   "execution_count": null,
   "id": "331912a9",
   "metadata": {},
   "outputs": [],
   "source": [
    "numbers = [1, 2, 3, 4, 5]\n",
    "print(numbers)"
   ]
  },
  {
   "cell_type": "markdown",
   "id": "f4720a93",
   "metadata": {},
   "source": [
    "### P7: Append the number 10 to the list [1, 2, 3, 4]."
   ]
  },
  {
   "cell_type": "code",
   "execution_count": null,
   "id": "7e190d50",
   "metadata": {},
   "outputs": [],
   "source": [
    "lst = [1, 2, 3, 4]\n",
    "lst.append(10)\n",
    "print(lst)"
   ]
  },
  {
   "cell_type": "markdown",
   "id": "6e2400d9",
   "metadata": {},
   "source": [
    "### P8: Remove the number 3 from the list [1, 2, 3, 4, 5]."
   ]
  },
  {
   "cell_type": "code",
   "execution_count": null,
   "id": "dc587481",
   "metadata": {},
   "outputs": [],
   "source": [
    "lst = [1, 2, 3, 4, 5]\n",
    "lst.remove(3)\n",
    "print(lst)"
   ]
  },
  {
   "cell_type": "markdown",
   "id": "3bea2f86",
   "metadata": {},
   "source": [
    "### P9: Access the second element in the list ['a', 'b', 'c', 'd']."
   ]
  },
  {
   "cell_type": "code",
   "execution_count": null,
   "id": "079f60e1",
   "metadata": {},
   "outputs": [],
   "source": [
    "print([\"a\", \"b\", \"c\", \"d\"][1])"
   ]
  },
  {
   "cell_type": "markdown",
   "id": "06607cc3",
   "metadata": {},
   "source": [
    "### P10: Reverse the list [10, 20, 30, 40, 50]."
   ]
  },
  {
   "cell_type": "code",
   "execution_count": null,
   "id": "9000a675",
   "metadata": {},
   "outputs": [],
   "source": [
    "lst = [10, 20, 30, 40, 50]\n",
    "lst.reverse()\n",
    "print(lst)"
   ]
  },
  {
   "cell_type": "markdown",
   "id": "16a0d1af",
   "metadata": {},
   "source": [
    "### P11: Create a tuple with the elements 100, 200, 300 and print it."
   ]
  },
  {
   "cell_type": "code",
   "execution_count": null,
   "id": "fb70c584",
   "metadata": {},
   "outputs": [],
   "source": [
    "t = (100, 200, 300)\n",
    "print(t)"
   ]
  },
  {
   "cell_type": "markdown",
   "id": "df9630e3",
   "metadata": {},
   "source": [
    "### P12: Access the second-to-last element of the tuple ('red', 'green', 'blue', 'yellow')."
   ]
  },
  {
   "cell_type": "code",
   "execution_count": null,
   "id": "1c7c93d8",
   "metadata": {},
   "outputs": [],
   "source": [
    "colors = (\"red\", \"green\", \"blue\", \"yellow\")\n",
    "print(colors[-2])"
   ]
  },
  {
   "cell_type": "markdown",
   "id": "fcf7176f",
   "metadata": {},
   "source": [
    "### P13: Find the minimum number in the tuple (10, 20, 5, 15)."
   ]
  },
  {
   "cell_type": "code",
   "execution_count": null,
   "id": "41a7a1eb",
   "metadata": {},
   "outputs": [],
   "source": [
    "print(min((10, 20, 5, 15)))"
   ]
  },
  {
   "cell_type": "markdown",
   "id": "66f7c397",
   "metadata": {},
   "source": [
    "### P14: Find the index of 'cat' in the tuple ('dog', 'cat', 'rabbit')."
   ]
  },
  {
   "cell_type": "code",
   "execution_count": null,
   "id": "06be7526",
   "metadata": {},
   "outputs": [],
   "source": [
    "print((\"dog\", \"cat\", \"rabbit\").index(\"cat\"))"
   ]
  },
  {
   "cell_type": "markdown",
   "id": "9306c646",
   "metadata": {},
   "source": [
    "### P15: Create a tuple containing three different fruits and check if 'kiwi' is in it."
   ]
  },
  {
   "cell_type": "code",
   "execution_count": null,
   "id": "fdfb8204",
   "metadata": {},
   "outputs": [],
   "source": [
    "fruits = (\"apple\", \"banana\", \"orange\")\n",
    "print(\"kiwi\" in fruits)"
   ]
  },
  {
   "cell_type": "markdown",
   "id": "58a57f35",
   "metadata": {},
   "source": [
    "### P16: Create a set with the elements 'a', 'b', 'c' and print it."
   ]
  },
  {
   "cell_type": "code",
   "execution_count": null,
   "id": "e9801440",
   "metadata": {},
   "outputs": [],
   "source": [
    "s = {\"a\", \"b\", \"c\"}\n",
    "print(s)"
   ]
  },
  {
   "cell_type": "markdown",
   "id": "05aac714",
   "metadata": {},
   "source": [
    "### P17: Clear all elements from the set {1, 2, 3, 4, 5}."
   ]
  },
  {
   "cell_type": "code",
   "execution_count": null,
   "id": "d79f6cbe",
   "metadata": {},
   "outputs": [],
   "source": [
    "s = {1, 2, 3, 4, 5}\n",
    "s.clear()\n",
    "print(s)"
   ]
  },
  {
   "cell_type": "markdown",
   "id": "b3ec1b4d",
   "metadata": {},
   "source": [
    "### P18: Remove the element 4 from the set {1, 2, 3, 4}."
   ]
  },
  {
   "cell_type": "code",
   "execution_count": null,
   "id": "ed89f1a0",
   "metadata": {},
   "outputs": [],
   "source": [
    "s = {1, 2, 3, 4}\n",
    "s.remove(4)\n",
    "print(s)"
   ]
  },
  {
   "cell_type": "markdown",
   "id": "ef8ab84a",
   "metadata": {},
   "source": [
    "### P19: Find the union of two sets {1, 2, 3} and {3, 4, 5}."
   ]
  },
  {
   "cell_type": "code",
   "execution_count": null,
   "id": "db374b04",
   "metadata": {},
   "outputs": [],
   "source": [
    "print({1, 2, 3} | {3, 4, 5})"
   ]
  },
  {
   "cell_type": "markdown",
   "id": "ec2816ef",
   "metadata": {},
   "source": [
    "### P20: Find the intersection of two sets {1, 2, 3} and {2, 3, 4}."
   ]
  },
  {
   "cell_type": "code",
   "execution_count": null,
   "id": "70640d98",
   "metadata": {},
   "outputs": [],
   "source": [
    "print({1, 2, 3} & {2, 3, 4})"
   ]
  },
  {
   "cell_type": "markdown",
   "id": "9d6d7163",
   "metadata": {},
   "source": [
    "### P21: Create a dictionary with the keys 'name', 'age', and 'city', and print it."
   ]
  },
  {
   "cell_type": "code",
   "execution_count": null,
   "id": "19674b38",
   "metadata": {},
   "outputs": [],
   "source": [
    "person = {\"name\": \"John\", \"age\": 25, \"city\": \"New York\"}\n",
    "print(person)"
   ]
  },
  {
   "cell_type": "markdown",
   "id": "3ce0ad41",
   "metadata": {},
   "source": [
    "### P22: Add 'country': 'USA' to the dictionary {'name': 'John', 'age': 25}."
   ]
  },
  {
   "cell_type": "code",
   "execution_count": null,
   "id": "585f364d",
   "metadata": {},
   "outputs": [],
   "source": [
    "d = {\"name\": \"John\", \"age\": 25}\n",
    "d[\"country\"] = \"USA\"\n",
    "print(d)"
   ]
  },
  {
   "cell_type": "markdown",
   "id": "e42e447b",
   "metadata": {},
   "source": [
    "### P23: Access the value associated with 'name' in {'name': 'Alice', 'age': 30}."
   ]
  },
  {
   "cell_type": "code",
   "execution_count": null,
   "id": "d678282c",
   "metadata": {},
   "outputs": [],
   "source": [
    "print({\"name\": \"Alice\", \"age\": 30}[\"name\"])"
   ]
  },
  {
   "cell_type": "markdown",
   "id": "9ad8436a",
   "metadata": {},
   "source": [
    "### P24: Remove the key 'age' from {'name': 'Bob', 'age': 22, 'city': 'New York'}."
   ]
  },
  {
   "cell_type": "code",
   "execution_count": null,
   "id": "a716b9af",
   "metadata": {},
   "outputs": [],
   "source": [
    "d = {\"name\": \"Bob\", \"age\": 22, \"city\": \"New York\"}\n",
    "del d[\"age\"]\n",
    "print(d)"
   ]
  },
  {
   "cell_type": "markdown",
   "id": "df12c9b6",
   "metadata": {},
   "source": [
    "### P25: Check if the key 'city' exists in {'name': 'Alice', 'city': 'Paris'}."
   ]
  },
  {
   "cell_type": "code",
   "execution_count": null,
   "id": "be01420d",
   "metadata": {},
   "outputs": [],
   "source": [
    "print(\"city\" in {\"name\": \"Alice\", \"city\": \"Paris\"})"
   ]
  },
  {
   "cell_type": "markdown",
   "id": "c2bdb364",
   "metadata": {},
   "source": [
    "### P26: Create a list, a tuple, and a dictionary, and print them all."
   ]
  },
  {
   "cell_type": "code",
   "execution_count": null,
   "id": "cc5e0da8",
   "metadata": {},
   "outputs": [],
   "source": [
    "my_list = [1, 2, 3]\n",
    "my_tuple = (4, 5, 6)\n",
    "my_dict = {\"a\": 1, \"b\": 2}\n",
    "print(my_list, my_tuple, my_dict)"
   ]
  },
  {
   "cell_type": "markdown",
   "id": "5cf66741",
   "metadata": {},
   "source": [
    "### P27: Create a list of 5 random numbers between 1 and 100, sort it in ascending order, and print the result."
   ]
  },
  {
   "cell_type": "code",
   "execution_count": null,
   "id": "c1573f04",
   "metadata": {},
   "outputs": [],
   "source": [
    "import random\n",
    "rand_list = random.sample(range(1, 101), 5)\n",
    "rand_list.sort()\n",
    "print(rand_list)"
   ]
  },
  {
   "cell_type": "markdown",
   "id": "d9275954",
   "metadata": {},
   "source": [
    "### P28: Create a list with strings and print the element at the third index."
   ]
  },
  {
   "cell_type": "code",
   "execution_count": null,
   "id": "91f41297",
   "metadata": {},
   "outputs": [],
   "source": [
    "strings = [\"a\", \"b\", \"c\", \"d\", \"e\"]\n",
    "print(strings[3])"
   ]
  },
  {
   "cell_type": "markdown",
   "id": "243373cc",
   "metadata": {},
   "source": [
    "### P29: Combine two dictionaries into one and print the result."
   ]
  },
  {
   "cell_type": "code",
   "execution_count": null,
   "id": "a77f3edf",
   "metadata": {},
   "outputs": [],
   "source": [
    "d1 = {\"a\": 1, \"b\": 2}\n",
    "d2 = {\"c\": 3, \"d\": 4}\n",
    "combined = {**d1, **d2}\n",
    "print(combined)"
   ]
  },
  {
   "cell_type": "markdown",
   "id": "e56472df",
   "metadata": {},
   "source": [
    "### P30: Convert a list of strings into a set."
   ]
  },
  {
   "cell_type": "code",
   "execution_count": null,
   "id": "7fa88fd9",
   "metadata": {},
   "outputs": [],
   "source": [
    "string_list = [\"apple\", \"banana\", \"apple\"]\n",
    "string_set = set(string_list)\n",
    "print(string_set)"
   ]
  }
 ],
 "metadata": {},
 "nbformat": 4,
 "nbformat_minor": 5
}
