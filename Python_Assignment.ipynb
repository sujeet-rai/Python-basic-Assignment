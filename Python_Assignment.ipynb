{
  "nbformat": 4,
  "nbformat_minor": 0,
  "metadata": {
    "colab": {
      "provenance": []
    },
    "kernelspec": {
      "name": "python3",
      "display_name": "Python 3"
    },
    "language_info": {
      "name": "python"
    }
  },
  "cells": [
    {
      "cell_type": "markdown",
      "source": [
        "# Python Theory Answers\n",
        "\n",
        "# 1. What is Python, and why is it popular?\n",
        "# Python is a high-level, interpreted programming language known for its simplicity, readability, and wide application in fields like web development, data science, and automation. It is popular due to its easy syntax, large standard library, cross-platform compatibility, and active community support.\n",
        "\n",
        "# 2. What is an interpreter in Python?\n",
        "# An interpreter is a program that reads and executes Python code line by line, translating high-level instructions into machine code at runtime.\n",
        "\n",
        "# 3. What are pre-defined keywords in Python?\n",
        "# Pre-defined keywords are reserved words in Python that have special meaning and purpose in the language syntax. They cannot be used as variable names or identifiers.\n",
        "\n",
        "# 4. Can keywords be used as variable names?\n",
        "# No, keywords cannot be used as variable names because they are reserved for specific syntactic uses by Python.\n",
        "\n",
        "# 5. What is mutability in Python?\n",
        "# Mutability refers to the ability of an object to be changed after it is created. Mutable objects can be altered, while immutable objects cannot.\n",
        "\n",
        "# 6. Why are lists mutable, but tuples are immutable?\n",
        "# Lists are mutable because they are designed to store a dynamic collection of items that can be modified. Tuples are immutable to ensure data integrity and to allow use as dictionary keys or in sets.\n",
        "\n",
        "# 7. What is the difference between “==” and “is” operators in Python?\n",
        "# The “==” operator checks whether two variables have equal values, while the “is” operator checks whether two variables refer to the same object in memory.\n",
        "\n",
        "# 8. What are logical operators in Python?\n",
        "# Logical operators in Python include \"and\", \"or\", and \"not\". They are used to perform logical operations on boolean expressions.\n",
        "\n",
        "# 9. What is type casting in Python?\n",
        "# Type casting is the process of converting a value from one data type to another, such as from a string to an integer.\n",
        "\n",
        "# 10. What is the difference between implicit and explicit type casting?\n",
        "# Implicit type casting is automatically done by Python during operations, whereas explicit type casting is manually done by the programmer using functions like int(), float(), or str().\n",
        "\n",
        "# 11. What is the purpose of conditional statements in Python?\n",
        "# Conditional statements allow the execution of code based on certain conditions, enabling decision-making in programs.\n",
        "\n",
        "# 12. How does the elif statement work?\n",
        "# The \"elif\" (else if) statement is used to check multiple conditions sequentially after an initial \"if\" condition. It executes the first true condition it encounters.\n",
        "\n",
        "# 13. What is the difference between for and while loops?\n",
        "# A \"for\" loop is used when the number of iterations is known or finite, usually for iterating over a sequence. A \"while\" loop is used when the number of iterations is unknown and depends on a condition.\n",
        "\n",
        "# 14. Describe a scenario where a while loop is more suitable than a for loop.\n",
        "# A while loop is more suitable when looping depends on a condition rather than a counter, such as repeatedly asking for user input until a valid response is given.\n"
      ],
      "metadata": {
        "id": "39huebQTZJ9I"
      }
    },
    {
      "cell_type": "code",
      "source": [
        "#1. Print Hello, World!\n",
        "print(\"Hello, World!\")"
      ],
      "metadata": {
        "colab": {
          "base_uri": "https://localhost:8080/"
        },
        "id": "kJjbuV4MZZST",
        "outputId": "dec0f4f2-0ba3-4cdb-c9c4-6594b4fee817"
      },
      "execution_count": 2,
      "outputs": [
        {
          "output_type": "stream",
          "name": "stdout",
          "text": [
            "Hello, World!\n"
          ]
        }
      ]
    },
    {
      "cell_type": "code",
      "source": [
        "# Q2: Print your name and age\n",
        "name = \"sujeet Rai\"\n",
        "age = 23\n",
        "print(\"Name:\", name)\n",
        "print(\"Age:\", age)"
      ],
      "metadata": {
        "colab": {
          "base_uri": "https://localhost:8080/"
        },
        "id": "B2HWJhy2haVx",
        "outputId": "86fad726-c517-4465-b4ab-84fb9c00277c"
      },
      "execution_count": 9,
      "outputs": [
        {
          "output_type": "stream",
          "name": "stdout",
          "text": [
            "Name: sujeet Rai\n",
            "Age: 23\n"
          ]
        }
      ]
    },
    {
      "cell_type": "code",
      "source": [
        "# Q3: Print all Python keywords\n",
        "import keyword\n",
        "print(keyword.kwlist)"
      ],
      "metadata": {
        "colab": {
          "base_uri": "https://localhost:8080/"
        },
        "id": "QrGdQXYShsx0",
        "outputId": "6c432100-83fe-4346-b098-53349df4b1bb"
      },
      "execution_count": 6,
      "outputs": [
        {
          "output_type": "stream",
          "name": "stdout",
          "text": [
            "['False', 'None', 'True', 'and', 'as', 'assert', 'async', 'await', 'break', 'class', 'continue', 'def', 'del', 'elif', 'else', 'except', 'finally', 'for', 'from', 'global', 'if', 'import', 'in', 'is', 'lambda', 'nonlocal', 'not', 'or', 'pass', 'raise', 'return', 'try', 'while', 'with', 'yield']\n"
          ]
        }
      ]
    },
    {
      "cell_type": "code",
      "source": [
        "# Q4: Check if a given word is a keyword\n",
        "import keyword\n",
        "word = \"if\"\n",
        "if keyword.iskeyword(word):\n",
        "    print(f\"{word} is a keyword.\")\n",
        "else:\n",
        "    print(f\"{word} is not a keyword.\")"
      ],
      "metadata": {
        "colab": {
          "base_uri": "https://localhost:8080/"
        },
        "id": "ryAImQr3iRUX",
        "outputId": "8687fe59-d434-4a02-e281-5d3e3d89788e"
      },
      "execution_count": 12,
      "outputs": [
        {
          "output_type": "stream",
          "name": "stdout",
          "text": [
            "if is a keyword.\n"
          ]
        }
      ]
    },
    {
      "cell_type": "code",
      "source": [
        "# Q5: Mutable vs Immutable arguments\n",
        "def mutate_example(my_list, my_tuple):\n",
        "    my_list.append(10)\n",
        "    try:\n",
        "        my_tuple[0] = 100\n",
        "    except TypeError:\n",
        "        print(\"Cannot modify tuple\")\n",
        "\n",
        "lst = [1, 2, 3]\n",
        "tpl = (1, 2, 3)\n",
        "mutate_example(lst, tpl)\n",
        "print(\"List after mutation:\", lst)\n",
        "print(\"Tuple remains unchanged:\", tpl)"
      ],
      "metadata": {
        "colab": {
          "base_uri": "https://localhost:8080/"
        },
        "id": "ZV9fCHBEikMH",
        "outputId": "8c954d50-2140-4b53-deda-bfca88874d98"
      },
      "execution_count": 13,
      "outputs": [
        {
          "output_type": "stream",
          "name": "stdout",
          "text": [
            "Cannot modify tuple\n",
            "List after mutation: [1, 2, 3, 10]\n",
            "Tuple remains unchanged: (1, 2, 3)\n"
          ]
        }
      ]
    },
    {
      "cell_type": "markdown",
      "source": [],
      "metadata": {
        "id": "6WyCoavdhZpp"
      }
    },
    {
      "cell_type": "code",
      "source": [
        "# Q6: Arithmetic operations\n",
        "\n",
        "a = 4\n",
        "b = 5\n",
        "print(\"Addition:\", a + b)\n",
        "print(\"Subtraction:\", a - b)\n",
        "print(\"Multiplication:\", a * b)\n",
        "print(\"Division:\", a / b)\n",
        "print(\"Floor Division:\", a // b)\n",
        "print(\"Modulus:\", a % b)\n",
        "print(\"Exponent:\", a ** b)"
      ],
      "metadata": {
        "colab": {
          "base_uri": "https://localhost:8080/"
        },
        "id": "yPGY33pXjx_O",
        "outputId": "c7bb7f48-b2bc-4564-8224-16a076e065f5"
      },
      "execution_count": 14,
      "outputs": [
        {
          "output_type": "stream",
          "name": "stdout",
          "text": [
            "Addition: 9\n",
            "Subtraction: -1\n",
            "Multiplication: 20\n",
            "Division: 0.8\n",
            "Floor Division: 0\n",
            "Modulus: 4\n",
            "Exponent: 1024\n"
          ]
        }
      ]
    },
    {
      "cell_type": "code",
      "source": [
        "# Q7: Logical operators\n",
        "x = 10\n",
        "y = 5\n",
        "print(\"x > 5 and y < 10:\", x > 5 and y < 10)\n",
        "print(\"x < 5 or y < 10:\", x < 5 or y < 10)\n",
        "print(\"not(x > y):\", not(x > y))"
      ],
      "metadata": {
        "colab": {
          "base_uri": "https://localhost:8080/"
        },
        "id": "AbYgq8J7kMsY",
        "outputId": "a21aa81b-0f9d-4d56-e729-9b8fdaf9ebe5"
      },
      "execution_count": 15,
      "outputs": [
        {
          "output_type": "stream",
          "name": "stdout",
          "text": [
            "x > 5 and y < 10: True\n",
            "x < 5 or y < 10: True\n",
            "not(x > y): False\n"
          ]
        }
      ]
    },
    {
      "cell_type": "code",
      "source": [
        "# Q8: List vs Tuple mutability\n",
        "my_list = [1, 2, 3]\n",
        "my_tuple = (1, 2, 3)\n",
        "my_list[0] = 99  # Works\n",
        "print(\"Modified List:\", my_list)\n",
        "\n",
        "try:\n",
        "    my_tuple[0] = 99  # Error\n",
        "except TypeError:\n",
        "    print(\"Cannot modify tuple\")"
      ],
      "metadata": {
        "colab": {
          "base_uri": "https://localhost:8080/"
        },
        "id": "tpW0PcLEkr7H",
        "outputId": "d25c1c43-3591-4e29-a427-364e78e46ade"
      },
      "execution_count": 17,
      "outputs": [
        {
          "output_type": "stream",
          "name": "stdout",
          "text": [
            "Modified List: [99, 2, 3]\n",
            "Cannot modify tuple\n"
          ]
        }
      ]
    },
    {
      "cell_type": "code",
      "source": [
        "# Q9: Convert user input types\n",
        "num_str = 5\n",
        "num_int = int(num_str)\n",
        "num_float = float(num_str)\n",
        "print(\"Integer:\", num_int)\n",
        "print(\"Float:\", num_float)\n",
        "print(\"As Boolean:\", bool(num_str))"
      ],
      "metadata": {
        "colab": {
          "base_uri": "https://localhost:8080/"
        },
        "id": "MzzK8hHMk4qX",
        "outputId": "d174c9c6-e3b3-4378-9115-af37c9ceba95"
      },
      "execution_count": 29,
      "outputs": [
        {
          "output_type": "stream",
          "name": "stdout",
          "text": [
            "Integer: 5\n",
            "Float: 5.0\n",
            "As Boolean: True\n"
          ]
        }
      ]
    },
    {
      "cell_type": "code",
      "source": [
        "# Q10: Type casting list elements\n",
        "str_list = [\"1\", \"2\", \"3\"]\n",
        "int_list = [int(x) for x in str_list]\n",
        "print(\"Integer list:\", int_list)"
      ],
      "metadata": {
        "colab": {
          "base_uri": "https://localhost:8080/"
        },
        "id": "cXXy3zkmnE47",
        "outputId": "8d522d5e-8ef6-4633-c9be-c325ed64e7da"
      },
      "execution_count": 30,
      "outputs": [
        {
          "output_type": "stream",
          "name": "stdout",
          "text": [
            "Integer list: [1, 2, 3]\n"
          ]
        }
      ]
    },
    {
      "cell_type": "code",
      "source": [
        "# Q11: Check if number is positive, negative, or zero\n",
        "num = 8\n",
        "if num > 0:\n",
        "    print(\"Positive\")\n",
        "elif num < 0:\n",
        "    print(\"Negative\")\n",
        "else:\n",
        "    print(\"Zero\")"
      ],
      "metadata": {
        "colab": {
          "base_uri": "https://localhost:8080/"
        },
        "id": "gZANpadinRf2",
        "outputId": "85af92c4-4eaa-4438-f251-5016c1ef2edd"
      },
      "execution_count": 32,
      "outputs": [
        {
          "output_type": "stream",
          "name": "stdout",
          "text": [
            "Positive\n"
          ]
        }
      ]
    },
    {
      "cell_type": "code",
      "source": [
        "# Q12: For loop 1 to 10\n",
        "for i in range(1, 11):\n",
        "    print(i)"
      ],
      "metadata": {
        "colab": {
          "base_uri": "https://localhost:8080/"
        },
        "id": "BzA_ne-_mtrj",
        "outputId": "c008f325-6d53-4016-b988-0ce6b1f406c5"
      },
      "execution_count": 33,
      "outputs": [
        {
          "output_type": "stream",
          "name": "stdout",
          "text": [
            "1\n",
            "2\n",
            "3\n",
            "4\n",
            "5\n",
            "6\n",
            "7\n",
            "8\n",
            "9\n",
            "10\n"
          ]
        }
      ]
    },
    {
      "cell_type": "code",
      "source": [
        "# Q13: Sum of even numbers 1 to 50\n",
        "even_sum = 0\n",
        "for i in range(2, 51, 2):\n",
        "    even_sum += i\n",
        "print(\"Sum of even numbers from 1 to 50:\", even_sum)"
      ],
      "metadata": {
        "colab": {
          "base_uri": "https://localhost:8080/"
        },
        "id": "jN_xxwVLnuxo",
        "outputId": "c16fe905-2e24-4433-cbee-50bf5c682643"
      },
      "execution_count": 34,
      "outputs": [
        {
          "output_type": "stream",
          "name": "stdout",
          "text": [
            "Sum of even numbers from 1 to 50: 650\n"
          ]
        }
      ]
    },
    {
      "cell_type": "code",
      "source": [
        "# Q14: Reverse a string using while loop\n",
        "input_str = \"Hello, World!\"\n",
        "reversed_str = \"\"\n",
        "length = len(input_str)\n",
        "while length > 0:\n",
        "    reversed_str += input_str[length - 1]\n",
        "    length -= 1\n",
        "print(\"Reversed string:\", reversed_str)"
      ],
      "metadata": {
        "colab": {
          "base_uri": "https://localhost:8080/"
        },
        "id": "dYqv0ZI5pGUG",
        "outputId": "f8472d1b-dec3-4d91-d035-ba951e4e8241"
      },
      "execution_count": 48,
      "outputs": [
        {
          "output_type": "stream",
          "name": "stdout",
          "text": [
            "Reversed string: !dlroW ,olleH\n"
          ]
        }
      ]
    },
    {
      "cell_type": "code",
      "source": [
        "# Q15: Factorial using while loop\n",
        "n = 6\n",
        "fact = 1\n",
        "while n > 1:\n",
        "    fact *= n\n",
        "    n -= 1\n",
        "print(\"Factorial:\", fact)"
      ],
      "metadata": {
        "colab": {
          "base_uri": "https://localhost:8080/"
        },
        "id": "lcpl1lHSpO14",
        "outputId": "d26be7f5-55af-492b-8e90-8831fee34727"
      },
      "execution_count": 58,
      "outputs": [
        {
          "output_type": "stream",
          "name": "stdout",
          "text": [
            "Factorial: 720\n"
          ]
        }
      ]
    }
  ]
}